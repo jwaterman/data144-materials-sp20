{
 "cells": [
  {
   "cell_type": "markdown",
   "metadata": {},
   "source": [
    "# Final Group Project: YOUR PROJECT TITLE [Total: 100 points]"
   ]
  },
  {
   "cell_type": "markdown",
   "metadata": {},
   "source": [
    "## Team Members\n",
    "* First Name, Last Name (replace these lines with your team info)\n",
    "* First Name, Last Name\n",
    "* ..."
   ]
  },
  {
   "cell_type": "markdown",
   "metadata": {},
   "source": [
    "## Overview\n",
    "\n",
    "### Deadlines\n",
    "\n",
    "* 4/15: Form your project team\n",
    "* 4/28: Checkpoint\n",
    "* 5/12: Final Submission\n",
    "\n",
    "### Project\n",
    "\n",
    "Your project is to develop a Jupyter Notebook (the notebook you are currently reading) **and** to record 5 to 7 minute video presentation addressing a research question that can be answered using a hypothesis test (and relevant confidence intervals) or regression inferences. Your research question should be related to **climate change**, broadly defined. This is a group project, and you can form a team of 2 to 4 students to complete your group project.\n",
    "\n",
    "### Data\n",
    "\n",
    "On Moodle, we provide 8 different climate data sources to help you get started. Feel free to use any of these 8 sources, or collect your own data or find a dataset of your interest online or from another source. We've created [a short video](https://www.youtube.com/watch?v=s3_Y_IljHws&list=PLD3O7TkAb6rTv4UIAr6BzvSyEuY340o3k&index=17&t=362s) to walk you through the steps of downloading a .csv data file and uploading it to your Jupyter workspace.\n",
    "\n",
    "Avoid using population datasets (such as data from all countries, all counties, etc.) – the purpose of this project is to do **inference**, which means you should be starting with sample data. If you collect your own data and your sampling method isn’t perfect, or find a dataset where you are worried the data may not have been sampled randomly, you may still use the dataset with appropriate discussion of the shortcomings of the study, biases, etc.\n",
    "\n",
    "### Tone\n",
    "\n",
    "Write as if you are explaining your results to whomever would be interested in your research question, whether this is other scholars in your field or peers sharing your interest in the topic. Keep in mind this audience may or may not have taken data science. You must be accurate and use correct data science terminology, but must also explain your conclusions in a way that anyone can understand.\n",
    "\n",
    "### Grading rubric\n",
    "| Part  | Assigned | Earned |\n",
    "| ---- | ----- | ---- |\n",
    "| Part 1 <br> Introduction | 15 points | |\n",
    "| Part 2 <br> Data | 15 points | |\n",
    "| Part 3 <br> Summary Statistics and Visualization | 15 points | |\n",
    "| Part 4 <br> Inference | 15 points | |\n",
    "| Part 5 <br> Conclusion | 15 points | |\n",
    "| Video Presentation | 25 points | |\n",
    "| Penalties <br> Missed checkpoint <br> Difficult to follow (need to replicate the analysis) <br> Using population data instead of sample data | <br> -10 points <br> -10 points <br> -10 points | |\n",
    "|Total | 100 points | |"
   ]
  },
  {
   "cell_type": "markdown",
   "metadata": {},
   "source": [
    "## Logistics\n",
    "\n",
    "The first thing you must do is pick your teams!  Form your team soon and **each team member** needs to fill out [this form](https://forms.gle/NE5vqRGMeF2K7h5LA) by Wednesday 4/15 11:59pm.  If you don't fill out this form by the deadline, you will be assigned to a group randomly. \n",
    "\n",
    "**The final deadline for the project is Tuesday 5/12 11:59pm**. This is the last possible time the college allows us to accept work, so this is a hard deadline.  Your deliveriables are the Jupyter notebook you used to generate your results and a 5-7 video presentation of your work.  It's **much** better to be early than late, so please start working now.\n",
    "\n",
    "**Checkpoint.** For full credit, you must complete the checkpoint by the checkpoint deadline. To complete the checkpoint, you must answer all questions up until the end of Part 3 and submit them by Tuesday 4/28 11:59pm. You will **not** have lab time to work on these questions, we recommend that you start early on each part to stay on track.\n",
    "\n",
    "**Support.** You are not alone! Come to office hours, and post questions on Slack.  We will set up a private slack channel for each group to help with coordination.  Feel free to talk about high-level concepts with your classmates, but the work on your project must your own and the members of your group. \n",
    "\n",
    "**Advice.** Develop your codes incrementally. To perform a complicated table manipulation, break it up into steps, perform each step on a different line, give a new name to each result, and check that each intermediate result is what you expect. You can add any additional names or functions you want to the provided cells. \n",
    "\n",
    "All of the concepts necessary for your project can be found in the textbook. If you are stuck on a particular problem, reading through the relevant textbook section often will help clarify the concept.\n",
    "\n",
    "To get started, load `datascience`, `numpy`, and `plots` library."
   ]
  },
  {
   "cell_type": "code",
   "execution_count": null,
   "metadata": {},
   "outputs": [],
   "source": [
    "from datascience import *\n",
    "import numpy as np\n",
    "\n",
    "%matplotlib inline\n",
    "import matplotlib.pyplot as plots\n",
    "plots.style.use('fivethirtyeight')"
   ]
  },
  {
   "cell_type": "markdown",
   "metadata": {},
   "source": [
    "## Part 1: Introduction (research question)"
   ]
  },
  {
   "cell_type": "markdown",
   "metadata": {},
   "source": [
    "What is your research question? Why do you care? Why should others care?"
   ]
  },
  {
   "cell_type": "markdown",
   "metadata": {},
   "source": [
    "*Replace this line with your answer.*"
   ]
  },
  {
   "cell_type": "markdown",
   "metadata": {},
   "source": [
    "## Part 2: Data"
   ]
  },
  {
   "cell_type": "markdown",
   "metadata": {},
   "source": [
    "**1. Data source**: Include the citation for your data, and (if available) link to the source."
   ]
  },
  {
   "cell_type": "markdown",
   "metadata": {},
   "source": [
    "*Replace this line with your answer.*"
   ]
  },
  {
   "cell_type": "markdown",
   "metadata": {},
   "source": [
    "**2. Data collection**: How was the data collected?"
   ]
  },
  {
   "cell_type": "markdown",
   "metadata": {},
   "source": [
    "*Replace this line with your answer.*"
   ]
  },
  {
   "cell_type": "markdown",
   "metadata": {},
   "source": [
    "**3. Observations**: What are the observations?"
   ]
  },
  {
   "cell_type": "markdown",
   "metadata": {},
   "source": [
    "*Replace this line with your answer.*"
   ]
  },
  {
   "cell_type": "markdown",
   "metadata": {},
   "source": [
    "**4. Variables**: What are the variables you will be studying?"
   ]
  },
  {
   "cell_type": "markdown",
   "metadata": {},
   "source": [
    "*Replace this line with your answer.*"
   ]
  },
  {
   "cell_type": "markdown",
   "metadata": {},
   "source": [
    "**5. Type of study**: Observational study or experiment? Explain."
   ]
  },
  {
   "cell_type": "markdown",
   "metadata": {},
   "source": [
    "*Replace this line with your answer.*"
   ]
  },
  {
   "cell_type": "markdown",
   "metadata": {},
   "source": [
    "**6. Scope of inference**: Can these data be used to establish causal links and / or can findings be generalized to the population at large (think about how representative the sample is)?"
   ]
  },
  {
   "cell_type": "markdown",
   "metadata": {},
   "source": [
    "*Replace this line with your answer.*"
   ]
  },
  {
   "cell_type": "markdown",
   "metadata": {},
   "source": [
    "**7. Data clean-up**: If you had to do any data clean-up in Python, you should include the code and a very brief description of your steps."
   ]
  },
  {
   "cell_type": "code",
   "execution_count": null,
   "metadata": {},
   "outputs": [],
   "source": [
    "## Include your data clean-up steps here\n"
   ]
  },
  {
   "cell_type": "markdown",
   "metadata": {},
   "source": [
    "**8. Printing your data**: To help us get a sense what your dataset, print the first 10 rows of your dataset. Make sure to include all the variables you intend to study about."
   ]
  },
  {
   "cell_type": "code",
   "execution_count": null,
   "metadata": {},
   "outputs": [],
   "source": [
    "## Print out the first 10 rows of your dataset here\n"
   ]
  },
  {
   "cell_type": "markdown",
   "metadata": {},
   "source": [
    "## Part 3: Summary Statistics and Visualization"
   ]
  },
  {
   "cell_type": "markdown",
   "metadata": {},
   "source": [
    "Perform relevant descriptive statistics, including summary statistics and visualization of the data. Also address what the exploratory data analysis suggests about your research question."
   ]
  },
  {
   "cell_type": "markdown",
   "metadata": {},
   "source": [
    "*Replace this line with your answer.*"
   ]
  },
  {
   "cell_type": "code",
   "execution_count": null,
   "metadata": {},
   "outputs": [],
   "source": [
    "## Include your Python script to perform the summary statistics and visualization\n",
    "\n"
   ]
  },
  {
   "cell_type": "markdown",
   "metadata": {},
   "source": [
    "## Checkpoint (Due Tuesday 4/28)\n",
    "\n",
    "#### Congratulations, you have reached the checkpoint! \n",
    "\n",
    "Save your work and message us on slack to let us know you are ready for us to look at your work. "
   ]
  },
  {
   "cell_type": "markdown",
   "metadata": {},
   "source": [
    "## Part 4: Inference"
   ]
  },
  {
   "cell_type": "markdown",
   "metadata": {},
   "source": [
    "Use appropriate methods to perform a hypothesis test (also construct relevant confidence intervals) or regression inferences."
   ]
  },
  {
   "cell_type": "markdown",
   "metadata": {},
   "source": [
    "**Make sure to include all relevant information about the hypothesis test / regression inference you are conducting, such as the hypotheses.**"
   ]
  },
  {
   "cell_type": "markdown",
   "metadata": {},
   "source": [
    "(Note: If you’re using a categorical variable with more than two levels, and you want to perform an A/B testing, for the inference section you should either combine or drop some of the levels, so that you only have two levels to work with. This only applies to the inference section, there are no restrictions on the number of levels you can use for Part 3 Summary Statistics and Visualization.)"
   ]
  },
  {
   "cell_type": "markdown",
   "metadata": {},
   "source": [
    "*Replace this line with your answer.*"
   ]
  },
  {
   "cell_type": "code",
   "execution_count": null,
   "metadata": {},
   "outputs": [],
   "source": [
    "## Include your Python script to perform the hypothesis test (and construct the confidence interval) \n",
    "## or regression inference\n",
    "\n"
   ]
  },
  {
   "cell_type": "markdown",
   "metadata": {},
   "source": [
    "## Part 5: Conclusion"
   ]
  },
  {
   "cell_type": "markdown",
   "metadata": {},
   "source": [
    "Below, write a brief summary of your findings without repeating your statements from earlier. Also include a discussion of what you have learned about your research question and the data you collected. You should also acknowledge limitations of your study and include ideas for possible future research."
   ]
  },
  {
   "cell_type": "markdown",
   "metadata": {},
   "source": [
    "*Replace this line with your answer.*"
   ]
  }
 ],
 "metadata": {
  "kernelspec": {
   "display_name": "Python 3",
   "language": "python",
   "name": "python3"
  },
  "language_info": {
   "codemirror_mode": {
    "name": "ipython",
    "version": 3
   },
   "file_extension": ".py",
   "mimetype": "text/x-python",
   "name": "python",
   "nbconvert_exporter": "python",
   "pygments_lexer": "ipython3",
   "version": "3.6.7"
  }
 },
 "nbformat": 4,
 "nbformat_minor": 4
}
