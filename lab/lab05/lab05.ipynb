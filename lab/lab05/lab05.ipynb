{
 "cells": [
  {
   "cell_type": "markdown",
   "metadata": {},
   "source": [
    "# Lab 5: Applying Functions and External Datasets"
   ]
  },
  {
   "cell_type": "markdown",
   "metadata": {},
   "source": [
    "Welcome to lab 5! This week, we'll get more practice with functions and the table method `apply` from [Section 8.1](https://www.inferentialthinking.com/chapters/08/1/applying-a-function-to-a-column.html).  We'll also practice loading and working with external dataset(s) to prepare for your course project.\n",
    "\n",
    "First, set up the tests and imports by running the cell below."
   ]
  },
  {
   "cell_type": "code",
   "execution_count": null,
   "metadata": {
    "deletable": false
   },
   "outputs": [],
   "source": [
    "import numpy as np\n",
    "from datascience import *\n",
    "\n",
    "# These lines set up graphing capabilities.\n",
    "import matplotlib\n",
    "%matplotlib inline\n",
    "import matplotlib.pyplot as plt\n",
    "plt.style.use('fivethirtyeight')\n",
    "import warnings\n",
    "warnings.simplefilter('ignore', FutureWarning)\n",
    "warnings.simplefilter('ignore', RuntimeWarning)\n",
    "\n",
    "from gofer.ok import check"
   ]
  },
  {
   "cell_type": "markdown",
   "metadata": {},
   "source": [
    "## 1. Counting Calories Burned from Exercise\n"
   ]
  },
  {
   "cell_type": "markdown",
   "metadata": {},
   "source": [
    "Suppose you'd like to count how many calories you've burned from exercise.  You do 4 kinds of exercise: yoga, walking, sprinting, and volleyball.  Every day in January, you record how many minutes of each kind of exercise you did that day.  Those data are in a table called `exercise.csv`."
   ]
  },
  {
   "cell_type": "code",
   "execution_count": null,
   "metadata": {},
   "outputs": [],
   "source": [
    "exercise = Table.read_table('exercise.csv')\n",
    "exercise"
   ]
  },
  {
   "cell_type": "markdown",
   "metadata": {},
   "source": [
    "Different forms of exercise burn calories at different rates; for example, sprinting is more vigorous than walking. The table `calories_per_minute` contains estimates of the calories per minute burned by each activity."
   ]
  },
  {
   "cell_type": "code",
   "execution_count": null,
   "metadata": {},
   "outputs": [],
   "source": [
    "calories_per_minute = Table.read_table('calories_per_minute.csv')\n",
    "calories_per_minute"
   ]
  },
  {
   "cell_type": "markdown",
   "metadata": {
    "deletable": false
   },
   "source": [
    "Let's start by finding the total number of minutes you spent exercising each day. \n",
    "\n",
    "**Question 1.1.** Write a function called `compute_exercise_time`.  It should take one argument, a row from the `exercise` table that contains the day and amounts of time (in minutes) spent on yoga, walking, sprinting, and volleyball. It should return the total time spent exercising.\n",
    "\n",
    "*Hint* You can `tbl.row(n)` to get the `n`th row of a table. `row.item(\"column_name\")` will allow you to select the element that corresponds to `column_name` in a particular row.\n",
    "\n",
    "<!--\n",
    "BEGIN QUESTION\n",
    "name: q1_1\n",
    "manual: false\n",
    "-->"
   ]
  },
  {
   "cell_type": "code",
   "execution_count": null,
   "metadata": {},
   "outputs": [],
   "source": [
    "def compute_exercise_time(exercise_row):\n",
    "    ...\n",
    "\n",
    "compute_exercise_time(exercise.row(0))"
   ]
  },
  {
   "cell_type": "code",
   "execution_count": null,
   "metadata": {
    "deletable": false,
    "editable": false
   },
   "outputs": [],
   "source": [
    "check(\"tests/q1_1.py\")"
   ]
  },
  {
   "cell_type": "markdown",
   "metadata": {
    "deletable": false
   },
   "source": [
    "**Question 1.2.** Create a new table `exercise_time` that is a copy of the `exercise` table, with a new column called `Total Exercise Time` that describes the total time (in minutes) spent exercising on each day.\n",
    "\n",
    "*Hint*: When you only pass a function name through `tbl.apply()`, the function gets applied to every row in `tbl`\n",
    "\n",
    "<!--\n",
    "BEGIN QUESTION\n",
    "name: q1_2\n",
    "manual: false\n",
    "-->"
   ]
  },
  {
   "cell_type": "code",
   "execution_count": null,
   "metadata": {},
   "outputs": [],
   "source": [
    "exercise_time = ...\n",
    "exercise_time"
   ]
  },
  {
   "cell_type": "code",
   "execution_count": null,
   "metadata": {
    "deletable": false,
    "editable": false
   },
   "outputs": [],
   "source": [
    "check(\"tests/q1_2.py\")"
   ]
  },
  {
   "cell_type": "markdown",
   "metadata": {
    "deletable": false
   },
   "source": [
    "To compute the calories you've burned on a particular day, you multiply the time spent on each kind of exercise by the calories burned per minute by that exercise, then add up those 4 numbers.\n",
    "\n",
    "**Question 1.3.** Write a function called `compute_calories`.  It should take 4 arguments, the amounts of time (in minutes) spent on yoga, walking, sprinting, and volleyball, respectively.  It should return the total number of calories burned.\n",
    "\n",
    "<!--\n",
    "BEGIN QUESTION\n",
    "name: q1_3\n",
    "manual: false\n",
    "-->"
   ]
  },
  {
   "cell_type": "code",
   "execution_count": null,
   "metadata": {},
   "outputs": [],
   "source": [
    "def compute_calories(..., ..., ..., ...)\n",
    "    ..."
   ]
  },
  {
   "cell_type": "code",
   "execution_count": null,
   "metadata": {
    "deletable": false,
    "editable": false
   },
   "outputs": [],
   "source": [
    "check(\"tests/q1_3.py\")"
   ]
  },
  {
   "cell_type": "markdown",
   "metadata": {
    "deletable": false
   },
   "source": [
    "**Question 1.4.** Make a table called `exercise_with_totals` that's a copy of `exercise`, but with an additional column called \"Total calories burned exercising\".  That column should contain the total number of calories burned from exercise on each day.  Compute that column using `apply` and your `compute_calories` function.\n",
    "\n",
    "*Hint:* If you want to apply a function that takes multiple arguments, you can pass through multiple column names as arguments in `tbl.apply()` to call your function on all corresponding columns.\n",
    "\n",
    "<!--\n",
    "BEGIN QUESTION\n",
    "name: q1_4\n",
    "manual: false\n",
    "-->"
   ]
  },
  {
   "cell_type": "code",
   "execution_count": null,
   "metadata": {},
   "outputs": [],
   "source": [
    "exercise_with_totals = ...\n",
    "exercise_with_totals"
   ]
  },
  {
   "cell_type": "code",
   "execution_count": null,
   "metadata": {
    "deletable": false,
    "editable": false
   },
   "outputs": [],
   "source": [
    "check(\"tests/q1_4.py\")"
   ]
  },
  {
   "cell_type": "markdown",
   "metadata": {
    "deletable": false
   },
   "source": [
    "**Question 1.5.** How many calories were burned from exercise in the 2nd week of January (that is, on days 8 through 14, inclusive)?  Call that number `calories_burned`.  Compute the answer with code, not by looking at the data.\n",
    "\n",
    "<!--\n",
    "BEGIN QUESTION\n",
    "name: q1_5\n",
    "manual: false\n",
    "-->"
   ]
  },
  {
   "cell_type": "code",
   "execution_count": null,
   "metadata": {},
   "outputs": [],
   "source": [
    "calories_burned = ...\n",
    "calories_burned"
   ]
  },
  {
   "cell_type": "code",
   "execution_count": null,
   "metadata": {
    "deletable": false,
    "editable": false
   },
   "outputs": [],
   "source": [
    "check(\"tests/q1_5.py\")"
   ]
  },
  {
   "cell_type": "markdown",
   "metadata": {},
   "source": [
    "## 2. Working with External Datasets"
   ]
  },
  {
   "cell_type": "markdown",
   "metadata": {},
   "source": [
    "To help you prepare for your course project later in the semester, we would like to get you to practice loading and working with external datasets. "
   ]
  },
  {
   "cell_type": "markdown",
   "metadata": {},
   "source": [
    "Recall that in Quiz 1, we worked with a dataset on New York Energy Production. In fact, the full dataset contains much more information. Let's try mannually uploading the `annualstate.csv` file to your folder and working with this file."
   ]
  },
  {
   "cell_type": "markdown",
   "metadata": {},
   "source": [
    "**Question 2.1.** Download the `annualstate.csv` file from Moodle, Section Climate datasets. Upload this file to your lab05 folder here."
   ]
  },
  {
   "cell_type": "markdown",
   "metadata": {},
   "source": [
    "*Hint:* To get to your lab05 folder, click the jupyter icon on the top left to bring you to your directory. Find you lab05 folder. Click the \"Upload\" button on the top right, and upload the `annualstate.csv` file. Don't forget to click \"Upload\" in blue to confirm the upload."
   ]
  },
  {
   "cell_type": "markdown",
   "metadata": {},
   "source": [
    "**Question 2.2.** Read in the `annualstate.csv` file using appropriate table methods and name it as fulldata. Show the first 10 rows."
   ]
  },
  {
   "cell_type": "code",
   "execution_count": null,
   "metadata": {},
   "outputs": [],
   "source": []
  },
  {
   "cell_type": "markdown",
   "metadata": {},
   "source": [
    "**Question 2.3.** Create a table called `annualNYtotal`, which only contains rows of \"NY\" in the \"STATE\" column, \"Total\" in the \"ENERGY SOURCE\" column. Show the first 10 rows of `annualNYtotal`."
   ]
  },
  {
   "cell_type": "code",
   "execution_count": null,
   "metadata": {},
   "outputs": [],
   "source": []
  },
  {
   "cell_type": "markdown",
   "metadata": {},
   "source": [
    "**Question 2.4.** Drop the \"ENERGY SOURCE\" column from `annualNYtotal`, and rename the remaining columns as: \"Year\", \"State\", \"Producer\", and \"Generation (megawatthours)\". Assign this new table to `annualNYtotal`, and show the first 10 rows of `annualNYtotal`."
   ]
  },
  {
   "cell_type": "code",
   "execution_count": null,
   "metadata": {},
   "outputs": [],
   "source": []
  },
  {
   "cell_type": "markdown",
   "metadata": {},
   "source": [
    "**Question 2.5.** Reformat the \"Generation (Megawatthours)\" column into \"Generation (thousand megawatthours)\". For example, 135,345,692 should be 135,346. Assign this new table to `annualNYtotal`, and show the first 10 rows of `annualNYtotal`."
   ]
  },
  {
   "cell_type": "code",
   "execution_count": null,
   "metadata": {},
   "outputs": [],
   "source": []
  },
  {
   "cell_type": "markdown",
   "metadata": {},
   "source": [
    "## 3. Submission\n"
   ]
  },
  {
   "cell_type": "markdown",
   "metadata": {
    "collapsed": true
   },
   "source": [
    "Great job! :D You're finished with lab 5! Be sure to...\n",
    "- **run all the tests and verify that they all pass** (the next cell has a shortcut for that), \n",
    "- **Save and Checkpoint** from the `File` menu,"
   ]
  },
  {
   "cell_type": "code",
   "execution_count": null,
   "metadata": {},
   "outputs": [],
   "source": [
    "# For your convenience, you can run this cell to run all the tests at once!\n",
    "import glob\n",
    "from gofer.ok import grade_notebook\n",
    "if not globals().get('__GOFER_GRADER__', False):\n",
    "    display(grade_notebook('lab05.ipynb', sorted(glob.glob('tests/q*.py'))))"
   ]
  }
 ],
 "metadata": {
  "celltoolbar": "Edit Metadata",
  "kernelspec": {
   "display_name": "Python 3",
   "language": "python",
   "name": "python3"
  },
  "language_info": {
   "codemirror_mode": {
    "name": "ipython",
    "version": 3
   },
   "file_extension": ".py",
   "mimetype": "text/x-python",
   "name": "python",
   "nbconvert_exporter": "python",
   "pygments_lexer": "ipython3",
   "version": "3.6.7"
  }
 },
 "nbformat": 4,
 "nbformat_minor": 1
}
