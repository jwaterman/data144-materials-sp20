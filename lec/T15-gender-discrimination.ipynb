{
 "cells": [
  {
   "cell_type": "code",
   "execution_count": null,
   "metadata": {},
   "outputs": [],
   "source": [
    "from datascience import *\n",
    "import numpy as np\n",
    "\n",
    "%matplotlib inline\n",
    "import matplotlib.pyplot as plots\n",
    "plots.style.use('fivethirtyeight')"
   ]
  },
  {
   "cell_type": "markdown",
   "metadata": {},
   "source": [
    "## Gender Discrimination ##"
   ]
  },
  {
   "cell_type": "markdown",
   "metadata": {},
   "source": [
    "**Please run all cells before this cell, including the import cell at the top of the notebook.**"
   ]
  },
  {
   "cell_type": "code",
   "execution_count": null,
   "metadata": {},
   "outputs": [],
   "source": [
    "GenderPromotion = Table.read_table(\"GenderPromotion.csv\")\n",
    "GenderPromotion"
   ]
  },
  {
   "cell_type": "code",
   "execution_count": null,
   "metadata": {},
   "outputs": [],
   "source": [
    "GenderPromotion.group('Promoted')"
   ]
  },
  {
   "cell_type": "code",
   "execution_count": null,
   "metadata": {},
   "outputs": [],
   "source": [
    "GenderPromotion.group('Gender')"
   ]
  },
  {
   "cell_type": "code",
   "execution_count": null,
   "metadata": {},
   "outputs": [],
   "source": [
    "pivot_table = GenderPromotion.pivot('Promoted', 'Gender')\n",
    "summary = pivot_table.with_column('Percent', pivot_table.column('Yes')/24)\n",
    "summary"
   ]
  },
  {
   "cell_type": "code",
   "execution_count": null,
   "metadata": {},
   "outputs": [],
   "source": [
    "observed_difference = summary.column('Percent').item(1) - summary.column('Percent').item(0)\n",
    "observed_difference"
   ]
  },
  {
   "cell_type": "code",
   "execution_count": null,
   "metadata": {},
   "outputs": [],
   "source": [
    "random_sample = GenderPromotion.select('Gender').sample(35, with_replacement=False)\n",
    "random_sample = random_sample.with_column('Promoted', 'Yes')\n",
    "random_sample"
   ]
  },
  {
   "cell_type": "code",
   "execution_count": null,
   "metadata": {},
   "outputs": [],
   "source": [
    "pivot_table_sample = random_sample.pivot('Promoted', 'Gender')\n",
    "summary_sample = pivot_table_sample.with_column('Percent', pivot_table_sample.column('Yes')/24)\n",
    "summary_sample"
   ]
  },
  {
   "cell_type": "code",
   "execution_count": null,
   "metadata": {},
   "outputs": [],
   "source": [
    "# Simulate one value of the test statistic \n",
    "# under the hypothesis that promotion is randomly determined\n",
    "\n",
    "def random_sample_percent_difference():\n",
    "    random_sample = GenderPromotion.select('Gender').sample(35, with_replacement=False)\n",
    "    random_sample = random_sample.with_column('Promoted', 'Yes')\n",
    "    pivot_table_sample = random_sample.pivot('Promoted', 'Gender')\n",
    "    summary_sample = pivot_table_sample.with_column('Percent', pivot_table_sample.column('Yes')/24)\n",
    "    return summary_sample.column('Percent').item(1) - summary_sample.column('Percent').item(0)"
   ]
  },
  {
   "cell_type": "code",
   "execution_count": null,
   "metadata": {},
   "outputs": [],
   "source": [
    "# Simulate 10,000 copies of the test statistic\n",
    "\n",
    "sample_difference = make_array()\n",
    "\n",
    "for i in np.arange(10000):\n",
    "    sample_difference = np.append(sample_difference, random_sample_percent_difference())   "
   ]
  },
  {
   "cell_type": "code",
   "execution_count": null,
   "metadata": {},
   "outputs": [],
   "source": [
    "# Compare the simulated distribution of the statistic\n",
    "# and the actual observed statistic\n",
    "\n",
    "differences_tbl = Table().with_column('Random Sample Difference', sample_difference)\n",
    "differences_tbl.hist(bins = 10)\n",
    "plots.scatter(observed_difference, 0, color = 'red', s=40);"
   ]
  },
  {
   "cell_type": "code",
   "execution_count": null,
   "metadata": {},
   "outputs": [],
   "source": [
    "sum(sample_difference >= observed_difference) / 10000"
   ]
  },
  {
   "cell_type": "code",
   "execution_count": null,
   "metadata": {},
   "outputs": [],
   "source": [
    "# 5% of 10,000 = 500\n",
    "\n",
    "five_percent_point = differences_tbl.sort(0).column(0).item(9500)\n",
    "five_percent_point"
   ]
  },
  {
   "cell_type": "code",
   "execution_count": null,
   "metadata": {},
   "outputs": [],
   "source": [
    "differences_tbl.hist(bins = 10)\n",
    "plots.plot([five_percent_point, five_percent_point], [0, 5], color='gold', lw=2)\n",
    "plots.title('Area to the left of the gold line: 5%');"
   ]
  },
  {
   "cell_type": "markdown",
   "metadata": {},
   "source": [
    "### Conventions about inconsistency ###"
   ]
  },
  {
   "cell_type": "markdown",
   "metadata": {},
   "source": [
    "**Please run all cells before this cell, including the import cell at the top of the notebook.**"
   ]
  },
  {
   "cell_type": "code",
   "execution_count": null,
   "metadata": {},
   "outputs": [],
   "source": [
    "# 1% of 10,000 = 100\n",
    "\n",
    "one_percent_point = differences_tbl.sort(0).column(0).item(9900)\n",
    "one_percent_point"
   ]
  },
  {
   "cell_type": "code",
   "execution_count": null,
   "metadata": {},
   "outputs": [],
   "source": [
    "differences_tbl.hist(bins = 10)\n",
    "plots.plot([one_percent_point, one_percent_point], [0, 5], color='gold', lw=2)\n",
    "plots.title('Area to the left of the gold line: 1%');"
   ]
  },
  {
   "cell_type": "code",
   "execution_count": null,
   "metadata": {},
   "outputs": [],
   "source": []
  }
 ],
 "metadata": {
  "anaconda-cloud": {},
  "kernelspec": {
   "display_name": "Python 3",
   "language": "python",
   "name": "python3"
  },
  "language_info": {
   "codemirror_mode": {
    "name": "ipython",
    "version": 3
   },
   "file_extension": ".py",
   "mimetype": "text/x-python",
   "name": "python",
   "nbconvert_exporter": "python",
   "pygments_lexer": "ipython3",
   "version": "3.6.7"
  }
 },
 "nbformat": 4,
 "nbformat_minor": 1
}
