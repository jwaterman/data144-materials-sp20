{
 "cells": [
  {
   "cell_type": "code",
   "execution_count": 1,
   "metadata": {},
   "outputs": [],
   "source": [
    "from datascience import *\n",
    "import numpy as np\n",
    "\n",
    "%matplotlib inline\n",
    "import matplotlib.pyplot as plots\n",
    "plots.style.use('fivethirtyeight')"
   ]
  },
  {
   "cell_type": "markdown",
   "metadata": {},
   "source": [
    "## Ranges ##"
   ]
  },
  {
   "cell_type": "code",
   "execution_count": 2,
   "metadata": {},
   "outputs": [
    {
     "data": {
      "text/plain": [
       "array([0, 1, 2, 3, 4, 5, 6])"
      ]
     },
     "execution_count": 2,
     "metadata": {},
     "output_type": "execute_result"
    }
   ],
   "source": [
    "make_array(0, 1, 2, 3, 4, 5, 6)"
   ]
  },
  {
   "cell_type": "code",
   "execution_count": 3,
   "metadata": {},
   "outputs": [
    {
     "data": {
      "text/plain": [
       "array([0, 1, 2, 3, 4, 5])"
      ]
     },
     "execution_count": 3,
     "metadata": {},
     "output_type": "execute_result"
    }
   ],
   "source": [
    "np.arange(6)"
   ]
  },
  {
   "cell_type": "code",
   "execution_count": 4,
   "metadata": {},
   "outputs": [
    {
     "data": {
      "text/plain": [
       "array([0, 1, 2, 3, 4, 5, 6])"
      ]
     },
     "execution_count": 4,
     "metadata": {},
     "output_type": "execute_result"
    }
   ],
   "source": [
    "np.arange(7)"
   ]
  },
  {
   "cell_type": "code",
   "execution_count": 5,
   "metadata": {},
   "outputs": [
    {
     "data": {
      "text/plain": [
       "array([ 5,  6,  7,  8,  9, 10])"
      ]
     },
     "execution_count": 5,
     "metadata": {},
     "output_type": "execute_result"
    }
   ],
   "source": [
    "np.arange(5, 11)"
   ]
  },
  {
   "cell_type": "code",
   "execution_count": 6,
   "metadata": {},
   "outputs": [
    {
     "data": {
      "text/plain": [
       "array([ 0,  2,  4,  6,  8, 10, 12, 14, 16, 18])"
      ]
     },
     "execution_count": 6,
     "metadata": {},
     "output_type": "execute_result"
    }
   ],
   "source": [
    "np.arange(0, 20, 2)"
   ]
  },
  {
   "cell_type": "code",
   "execution_count": 7,
   "metadata": {},
   "outputs": [
    {
     "data": {
      "text/plain": [
       "array([ 0,  2,  4,  6,  8, 10, 12, 14, 16, 18, 20])"
      ]
     },
     "execution_count": 7,
     "metadata": {},
     "output_type": "execute_result"
    }
   ],
   "source": [
    "np.arange(0, 21, 2)"
   ]
  },
  {
   "cell_type": "code",
   "execution_count": 8,
   "metadata": {},
   "outputs": [
    {
     "data": {
      "text/plain": [
       "array([0. , 0.1, 0.2, 0.3, 0.4, 0.5, 0.6, 0.7, 0.8, 0.9])"
      ]
     },
     "execution_count": 8,
     "metadata": {},
     "output_type": "execute_result"
    }
   ],
   "source": [
    "np.arange(0, 1, 0.1)"
   ]
  },
  {
   "cell_type": "code",
   "execution_count": 9,
   "metadata": {},
   "outputs": [],
   "source": [
    "a = np.arange(8)"
   ]
  },
  {
   "cell_type": "code",
   "execution_count": 10,
   "metadata": {},
   "outputs": [
    {
     "data": {
      "text/plain": [
       "array([0, 1, 2, 3, 4, 5, 6, 7])"
      ]
     },
     "execution_count": 10,
     "metadata": {},
     "output_type": "execute_result"
    }
   ],
   "source": [
    "a"
   ]
  },
  {
   "cell_type": "code",
   "execution_count": 11,
   "metadata": {},
   "outputs": [
    {
     "ename": "IndexError",
     "evalue": "index 8 is out of bounds for axis 0 with size 8",
     "output_type": "error",
     "traceback": [
      "\u001b[0;31m---------------------------------------------------------------------------\u001b[0m",
      "\u001b[0;31mIndexError\u001b[0m                                Traceback (most recent call last)",
      "\u001b[0;32m<ipython-input-11-97645edf5f5d>\u001b[0m in \u001b[0;36m<module>\u001b[0;34m\u001b[0m\n\u001b[0;32m----> 1\u001b[0;31m \u001b[0ma\u001b[0m\u001b[0;34m.\u001b[0m\u001b[0mitem\u001b[0m\u001b[0;34m(\u001b[0m\u001b[0;36m8\u001b[0m\u001b[0;34m)\u001b[0m\u001b[0;34m\u001b[0m\u001b[0;34m\u001b[0m\u001b[0m\n\u001b[0m",
      "\u001b[0;31mIndexError\u001b[0m: index 8 is out of bounds for axis 0 with size 8"
     ]
    }
   ],
   "source": [
    "a.item(8)"
   ]
  },
  {
   "cell_type": "markdown",
   "metadata": {},
   "source": [
    "## Creating a Table from Scratch ##"
   ]
  },
  {
   "cell_type": "code",
   "execution_count": 12,
   "metadata": {},
   "outputs": [
    {
     "data": {
      "text/plain": [
       "array(['Bancroft', 'Durant', 'Channing', 'Haste'], dtype='<U8')"
      ]
     },
     "execution_count": 12,
     "metadata": {},
     "output_type": "execute_result"
    }
   ],
   "source": [
    "streets = make_array('Bancroft', 'Durant', 'Channing', 'Haste')\n",
    "streets"
   ]
  },
  {
   "cell_type": "code",
   "execution_count": 13,
   "metadata": {},
   "outputs": [
    {
     "data": {
      "text/html": [
       "<table border=\"1\" class=\"dataframe\">\n",
       "    <thead>\n",
       "        <tr>\n",
       "            \n",
       "        </tr>\n",
       "    </thead>\n",
       "    <tbody>\n",
       "    </tbody>\n",
       "</table>"
      ],
      "text/plain": []
     },
     "execution_count": 13,
     "metadata": {},
     "output_type": "execute_result"
    }
   ],
   "source": [
    "Table()"
   ]
  },
  {
   "cell_type": "code",
   "execution_count": 14,
   "metadata": {},
   "outputs": [
    {
     "data": {
      "text/html": [
       "<table border=\"1\" class=\"dataframe\">\n",
       "    <thead>\n",
       "        <tr>\n",
       "            <th>Streets</th>\n",
       "        </tr>\n",
       "    </thead>\n",
       "    <tbody>\n",
       "        <tr>\n",
       "            <td>Bancroft</td>\n",
       "        </tr>\n",
       "        <tr>\n",
       "            <td>Durant  </td>\n",
       "        </tr>\n",
       "        <tr>\n",
       "            <td>Channing</td>\n",
       "        </tr>\n",
       "        <tr>\n",
       "            <td>Haste   </td>\n",
       "        </tr>\n",
       "    </tbody>\n",
       "</table>"
      ],
      "text/plain": [
       "Streets\n",
       "Bancroft\n",
       "Durant\n",
       "Channing\n",
       "Haste"
      ]
     },
     "execution_count": 14,
     "metadata": {},
     "output_type": "execute_result"
    }
   ],
   "source": [
    "southside = Table().with_column('Streets', streets)\n",
    "southside"
   ]
  },
  {
   "cell_type": "code",
   "execution_count": 15,
   "metadata": {},
   "outputs": [
    {
     "data": {
      "text/html": [
       "<table border=\"1\" class=\"dataframe\">\n",
       "    <thead>\n",
       "        <tr>\n",
       "            <th>Streets</th> <th>Blocks from campus</th>\n",
       "        </tr>\n",
       "    </thead>\n",
       "    <tbody>\n",
       "        <tr>\n",
       "            <td>Bancroft</td> <td>0                 </td>\n",
       "        </tr>\n",
       "        <tr>\n",
       "            <td>Durant  </td> <td>1                 </td>\n",
       "        </tr>\n",
       "        <tr>\n",
       "            <td>Channing</td> <td>2                 </td>\n",
       "        </tr>\n",
       "        <tr>\n",
       "            <td>Haste   </td> <td>3                 </td>\n",
       "        </tr>\n",
       "    </tbody>\n",
       "</table>"
      ],
      "text/plain": [
       "Streets  | Blocks from campus\n",
       "Bancroft | 0\n",
       "Durant   | 1\n",
       "Channing | 2\n",
       "Haste    | 3"
      ]
     },
     "execution_count": 15,
     "metadata": {},
     "output_type": "execute_result"
    }
   ],
   "source": [
    "southside.with_column('Blocks from campus', np.arange(4))"
   ]
  },
  {
   "cell_type": "code",
   "execution_count": 16,
   "metadata": {},
   "outputs": [
    {
     "data": {
      "text/html": [
       "<table border=\"1\" class=\"dataframe\">\n",
       "    <thead>\n",
       "        <tr>\n",
       "            <th>Streets</th>\n",
       "        </tr>\n",
       "    </thead>\n",
       "    <tbody>\n",
       "        <tr>\n",
       "            <td>Bancroft</td>\n",
       "        </tr>\n",
       "        <tr>\n",
       "            <td>Durant  </td>\n",
       "        </tr>\n",
       "        <tr>\n",
       "            <td>Channing</td>\n",
       "        </tr>\n",
       "        <tr>\n",
       "            <td>Haste   </td>\n",
       "        </tr>\n",
       "    </tbody>\n",
       "</table>"
      ],
      "text/plain": [
       "Streets\n",
       "Bancroft\n",
       "Durant\n",
       "Channing\n",
       "Haste"
      ]
     },
     "execution_count": 16,
     "metadata": {},
     "output_type": "execute_result"
    }
   ],
   "source": [
    "southside"
   ]
  },
  {
   "cell_type": "code",
   "execution_count": 17,
   "metadata": {},
   "outputs": [
    {
     "data": {
      "text/html": [
       "<table border=\"1\" class=\"dataframe\">\n",
       "    <thead>\n",
       "        <tr>\n",
       "            <th>Streets</th> <th>Blocks from campus</th>\n",
       "        </tr>\n",
       "    </thead>\n",
       "    <tbody>\n",
       "        <tr>\n",
       "            <td>Bancroft</td> <td>0                 </td>\n",
       "        </tr>\n",
       "        <tr>\n",
       "            <td>Durant  </td> <td>1                 </td>\n",
       "        </tr>\n",
       "        <tr>\n",
       "            <td>Channing</td> <td>2                 </td>\n",
       "        </tr>\n",
       "        <tr>\n",
       "            <td>Haste   </td> <td>3                 </td>\n",
       "        </tr>\n",
       "    </tbody>\n",
       "</table>"
      ],
      "text/plain": [
       "Streets  | Blocks from campus\n",
       "Bancroft | 0\n",
       "Durant   | 1\n",
       "Channing | 2\n",
       "Haste    | 3"
      ]
     },
     "execution_count": 17,
     "metadata": {},
     "output_type": "execute_result"
    }
   ],
   "source": [
    "southside = southside.with_column('Blocks from campus', np.arange(4))\n",
    "southside"
   ]
  },
  {
   "cell_type": "code",
   "execution_count": 18,
   "metadata": {},
   "outputs": [
    {
     "data": {
      "text/plain": [
       "('Streets', 'Blocks from campus')"
      ]
     },
     "execution_count": 18,
     "metadata": {},
     "output_type": "execute_result"
    }
   ],
   "source": [
    "southside.labels"
   ]
  },
  {
   "cell_type": "code",
   "execution_count": 19,
   "metadata": {},
   "outputs": [
    {
     "data": {
      "text/plain": [
       "2"
      ]
     },
     "execution_count": 19,
     "metadata": {},
     "output_type": "execute_result"
    }
   ],
   "source": [
    "southside.num_columns"
   ]
  },
  {
   "cell_type": "code",
   "execution_count": 20,
   "metadata": {},
   "outputs": [
    {
     "data": {
      "text/plain": [
       "4"
      ]
     },
     "execution_count": 20,
     "metadata": {},
     "output_type": "execute_result"
    }
   ],
   "source": [
    "southside.num_rows"
   ]
  },
  {
   "cell_type": "markdown",
   "metadata": {},
   "source": [
    "## Reading a Table from a File  ##"
   ]
  },
  {
   "cell_type": "code",
   "execution_count": 21,
   "metadata": {},
   "outputs": [
    {
     "data": {
      "text/html": [
       "<table border=\"1\" class=\"dataframe\">\n",
       "    <thead>\n",
       "        <tr>\n",
       "            <th>Longitude</th> <th>Latitude</th> <th>City</th> <th>Direction</th> <th>Survivors</th>\n",
       "        </tr>\n",
       "    </thead>\n",
       "    <tbody>\n",
       "        <tr>\n",
       "            <td>24       </td> <td>54.9    </td> <td>Kaunas     </td> <td>Advance  </td> <td>340000   </td>\n",
       "        </tr>\n",
       "        <tr>\n",
       "            <td>30.2     </td> <td>55.2    </td> <td>Vitebsk    </td> <td>Advance  </td> <td>175000   </td>\n",
       "        </tr>\n",
       "        <tr>\n",
       "            <td>32       </td> <td>54.8    </td> <td>Smolensk   </td> <td>Advance  </td> <td>145000   </td>\n",
       "        </tr>\n",
       "        <tr>\n",
       "            <td>37.6     </td> <td>55.8    </td> <td>Moscow     </td> <td>Advance  </td> <td>100000   </td>\n",
       "        </tr>\n",
       "        <tr>\n",
       "            <td>34.3     </td> <td>55.2    </td> <td>Vyazma     </td> <td>Retreat  </td> <td>55000    </td>\n",
       "        </tr>\n",
       "        <tr>\n",
       "            <td>32       </td> <td>54.6    </td> <td>Smolensk   </td> <td>Retreat  </td> <td>24000    </td>\n",
       "        </tr>\n",
       "        <tr>\n",
       "            <td>30.4     </td> <td>54.4    </td> <td>Orsha      </td> <td>Retreat  </td> <td>20000    </td>\n",
       "        </tr>\n",
       "        <tr>\n",
       "            <td>26.8     </td> <td>54.3    </td> <td>Maladyechna</td> <td>Retreat  </td> <td>12000    </td>\n",
       "        </tr>\n",
       "        <tr>\n",
       "            <td>24.1     </td> <td>54.4    </td> <td>Kaunas     </td> <td>Retreat  </td> <td>4000     </td>\n",
       "        </tr>\n",
       "    </tbody>\n",
       "</table>"
      ],
      "text/plain": [
       "Longitude | Latitude | City        | Direction | Survivors\n",
       "24        | 54.9     | Kaunas      | Advance   | 340000\n",
       "30.2      | 55.2     | Vitebsk     | Advance   | 175000\n",
       "32        | 54.8     | Smolensk    | Advance   | 145000\n",
       "37.6      | 55.8     | Moscow      | Advance   | 100000\n",
       "34.3      | 55.2     | Vyazma      | Retreat   | 55000\n",
       "32        | 54.6     | Smolensk    | Retreat   | 24000\n",
       "30.4      | 54.4     | Orsha       | Retreat   | 20000\n",
       "26.8      | 54.3     | Maladyechna | Retreat   | 12000\n",
       "24.1      | 54.4     | Kaunas      | Retreat   | 4000"
      ]
     },
     "execution_count": 21,
     "metadata": {},
     "output_type": "execute_result"
    }
   ],
   "source": [
    "minard = Table.read_table('minard.csv')\n",
    "minard"
   ]
  },
  {
   "cell_type": "code",
   "execution_count": 22,
   "metadata": {},
   "outputs": [],
   "source": [
    "# Find the southernmost city along the retreat.\n",
    "southernmost_city = ..."
   ]
  },
  {
   "cell_type": "code",
   "execution_count": 23,
   "metadata": {},
   "outputs": [
    {
     "data": {
      "text/html": [
       "<table border=\"1\" class=\"dataframe\">\n",
       "    <thead>\n",
       "        <tr>\n",
       "            <th>City</th>\n",
       "        </tr>\n",
       "    </thead>\n",
       "    <tbody>\n",
       "        <tr>\n",
       "            <td>Kaunas     </td>\n",
       "        </tr>\n",
       "        <tr>\n",
       "            <td>Vitebsk    </td>\n",
       "        </tr>\n",
       "        <tr>\n",
       "            <td>Smolensk   </td>\n",
       "        </tr>\n",
       "        <tr>\n",
       "            <td>Moscow     </td>\n",
       "        </tr>\n",
       "        <tr>\n",
       "            <td>Vyazma     </td>\n",
       "        </tr>\n",
       "        <tr>\n",
       "            <td>Smolensk   </td>\n",
       "        </tr>\n",
       "        <tr>\n",
       "            <td>Orsha      </td>\n",
       "        </tr>\n",
       "        <tr>\n",
       "            <td>Maladyechna</td>\n",
       "        </tr>\n",
       "        <tr>\n",
       "            <td>Kaunas     </td>\n",
       "        </tr>\n",
       "    </tbody>\n",
       "</table>"
      ],
      "text/plain": [
       "City\n",
       "Kaunas\n",
       "Vitebsk\n",
       "Smolensk\n",
       "Moscow\n",
       "Vyazma\n",
       "Smolensk\n",
       "Orsha\n",
       "Maladyechna\n",
       "Kaunas"
      ]
     },
     "execution_count": 23,
     "metadata": {},
     "output_type": "execute_result"
    }
   ],
   "source": [
    "minard.select('City')"
   ]
  },
  {
   "cell_type": "code",
   "execution_count": 24,
   "metadata": {},
   "outputs": [
    {
     "data": {
      "text/plain": [
       "array(['Kaunas', 'Vitebsk', 'Smolensk', 'Moscow', 'Vyazma', 'Smolensk',\n",
       "       'Orsha', 'Maladyechna', 'Kaunas'], dtype='<U11')"
      ]
     },
     "execution_count": 24,
     "metadata": {},
     "output_type": "execute_result"
    }
   ],
   "source": [
    "minard.column('City')"
   ]
  },
  {
   "cell_type": "code",
   "execution_count": 25,
   "metadata": {},
   "outputs": [
    {
     "data": {
      "text/plain": [
       "array([340000, 175000, 145000, 100000,  55000,  24000,  20000,  12000,\n",
       "         4000])"
      ]
     },
     "execution_count": 25,
     "metadata": {},
     "output_type": "execute_result"
    }
   ],
   "source": [
    "minard.column('Survivors')"
   ]
  },
  {
   "cell_type": "code",
   "execution_count": 26,
   "metadata": {},
   "outputs": [
    {
     "data": {
      "text/plain": [
       "340000"
      ]
     },
     "execution_count": 26,
     "metadata": {},
     "output_type": "execute_result"
    }
   ],
   "source": [
    "initial_size = minard.column('Survivors').item(0)\n",
    "initial_size"
   ]
  },
  {
   "cell_type": "code",
   "execution_count": 27,
   "metadata": {},
   "outputs": [
    {
     "data": {
      "text/plain": [
       "array([1.        , 0.51470588, 0.42647059, 0.29411765, 0.16176471,\n",
       "       0.07058824, 0.05882353, 0.03529412, 0.01176471])"
      ]
     },
     "execution_count": 27,
     "metadata": {},
     "output_type": "execute_result"
    }
   ],
   "source": [
    "minard.column('Survivors') / initial_size"
   ]
  },
  {
   "cell_type": "code",
   "execution_count": 28,
   "metadata": {},
   "outputs": [
    {
     "data": {
      "text/html": [
       "<table border=\"1\" class=\"dataframe\">\n",
       "    <thead>\n",
       "        <tr>\n",
       "            <th>Longitude</th> <th>Latitude</th> <th>City</th> <th>Direction</th> <th>Survivors</th> <th>Pct alive</th>\n",
       "        </tr>\n",
       "    </thead>\n",
       "    <tbody>\n",
       "        <tr>\n",
       "            <td>24       </td> <td>54.9    </td> <td>Kaunas     </td> <td>Advance  </td> <td>340000   </td> <td>1        </td>\n",
       "        </tr>\n",
       "        <tr>\n",
       "            <td>30.2     </td> <td>55.2    </td> <td>Vitebsk    </td> <td>Advance  </td> <td>175000   </td> <td>0.514706 </td>\n",
       "        </tr>\n",
       "        <tr>\n",
       "            <td>32       </td> <td>54.8    </td> <td>Smolensk   </td> <td>Advance  </td> <td>145000   </td> <td>0.426471 </td>\n",
       "        </tr>\n",
       "        <tr>\n",
       "            <td>37.6     </td> <td>55.8    </td> <td>Moscow     </td> <td>Advance  </td> <td>100000   </td> <td>0.294118 </td>\n",
       "        </tr>\n",
       "        <tr>\n",
       "            <td>34.3     </td> <td>55.2    </td> <td>Vyazma     </td> <td>Retreat  </td> <td>55000    </td> <td>0.161765 </td>\n",
       "        </tr>\n",
       "        <tr>\n",
       "            <td>32       </td> <td>54.6    </td> <td>Smolensk   </td> <td>Retreat  </td> <td>24000    </td> <td>0.0705882</td>\n",
       "        </tr>\n",
       "        <tr>\n",
       "            <td>30.4     </td> <td>54.4    </td> <td>Orsha      </td> <td>Retreat  </td> <td>20000    </td> <td>0.0588235</td>\n",
       "        </tr>\n",
       "        <tr>\n",
       "            <td>26.8     </td> <td>54.3    </td> <td>Maladyechna</td> <td>Retreat  </td> <td>12000    </td> <td>0.0352941</td>\n",
       "        </tr>\n",
       "        <tr>\n",
       "            <td>24.1     </td> <td>54.4    </td> <td>Kaunas     </td> <td>Retreat  </td> <td>4000     </td> <td>0.0117647</td>\n",
       "        </tr>\n",
       "    </tbody>\n",
       "</table>"
      ],
      "text/plain": [
       "Longitude | Latitude | City        | Direction | Survivors | Pct alive\n",
       "24        | 54.9     | Kaunas      | Advance   | 340000    | 1\n",
       "30.2      | 55.2     | Vitebsk     | Advance   | 175000    | 0.514706\n",
       "32        | 54.8     | Smolensk    | Advance   | 145000    | 0.426471\n",
       "37.6      | 55.8     | Moscow      | Advance   | 100000    | 0.294118\n",
       "34.3      | 55.2     | Vyazma      | Retreat   | 55000     | 0.161765\n",
       "32        | 54.6     | Smolensk    | Retreat   | 24000     | 0.0705882\n",
       "30.4      | 54.4     | Orsha       | Retreat   | 20000     | 0.0588235\n",
       "26.8      | 54.3     | Maladyechna | Retreat   | 12000     | 0.0352941\n",
       "24.1      | 54.4     | Kaunas      | Retreat   | 4000      | 0.0117647"
      ]
     },
     "execution_count": 28,
     "metadata": {},
     "output_type": "execute_result"
    }
   ],
   "source": [
    "minard = minard.with_column(\n",
    "    'Pct alive', \n",
    "    minard.column('Survivors') / initial_size)\n",
    "minard"
   ]
  },
  {
   "cell_type": "code",
   "execution_count": 29,
   "metadata": {
    "scrolled": true
   },
   "outputs": [
    {
     "data": {
      "text/html": [
       "<table border=\"1\" class=\"dataframe\">\n",
       "    <thead>\n",
       "        <tr>\n",
       "            <th>Longitude</th> <th>Latitude</th> <th>City</th> <th>Direction</th> <th>Survivors</th> <th>Pct alive</th>\n",
       "        </tr>\n",
       "    </thead>\n",
       "    <tbody>\n",
       "        <tr>\n",
       "            <td>24       </td> <td>54.9    </td> <td>Kaunas     </td> <td>Advance  </td> <td>340000   </td> <td>100.00%  </td>\n",
       "        </tr>\n",
       "        <tr>\n",
       "            <td>30.2     </td> <td>55.2    </td> <td>Vitebsk    </td> <td>Advance  </td> <td>175000   </td> <td>51.47%   </td>\n",
       "        </tr>\n",
       "        <tr>\n",
       "            <td>32       </td> <td>54.8    </td> <td>Smolensk   </td> <td>Advance  </td> <td>145000   </td> <td>42.65%   </td>\n",
       "        </tr>\n",
       "        <tr>\n",
       "            <td>37.6     </td> <td>55.8    </td> <td>Moscow     </td> <td>Advance  </td> <td>100000   </td> <td>29.41%   </td>\n",
       "        </tr>\n",
       "        <tr>\n",
       "            <td>34.3     </td> <td>55.2    </td> <td>Vyazma     </td> <td>Retreat  </td> <td>55000    </td> <td>16.18%   </td>\n",
       "        </tr>\n",
       "        <tr>\n",
       "            <td>32       </td> <td>54.6    </td> <td>Smolensk   </td> <td>Retreat  </td> <td>24000    </td> <td>7.06%    </td>\n",
       "        </tr>\n",
       "        <tr>\n",
       "            <td>30.4     </td> <td>54.4    </td> <td>Orsha      </td> <td>Retreat  </td> <td>20000    </td> <td>5.88%    </td>\n",
       "        </tr>\n",
       "        <tr>\n",
       "            <td>26.8     </td> <td>54.3    </td> <td>Maladyechna</td> <td>Retreat  </td> <td>12000    </td> <td>3.53%    </td>\n",
       "        </tr>\n",
       "        <tr>\n",
       "            <td>24.1     </td> <td>54.4    </td> <td>Kaunas     </td> <td>Retreat  </td> <td>4000     </td> <td>1.18%    </td>\n",
       "        </tr>\n",
       "    </tbody>\n",
       "</table>"
      ],
      "text/plain": [
       "Longitude | Latitude | City        | Direction | Survivors | Pct alive\n",
       "24        | 54.9     | Kaunas      | Advance   | 340000    | 100.00%\n",
       "30.2      | 55.2     | Vitebsk     | Advance   | 175000    | 51.47%\n",
       "32        | 54.8     | Smolensk    | Advance   | 145000    | 42.65%\n",
       "37.6      | 55.8     | Moscow      | Advance   | 100000    | 29.41%\n",
       "34.3      | 55.2     | Vyazma      | Retreat   | 55000     | 16.18%\n",
       "32        | 54.6     | Smolensk    | Retreat   | 24000     | 7.06%\n",
       "30.4      | 54.4     | Orsha       | Retreat   | 20000     | 5.88%\n",
       "26.8      | 54.3     | Maladyechna | Retreat   | 12000     | 3.53%\n",
       "24.1      | 54.4     | Kaunas      | Retreat   | 4000      | 1.18%"
      ]
     },
     "execution_count": 29,
     "metadata": {},
     "output_type": "execute_result"
    }
   ],
   "source": [
    "minard.set_format('Pct alive', PercentFormatter)"
   ]
  },
  {
   "cell_type": "code",
   "execution_count": 30,
   "metadata": {},
   "outputs": [
    {
     "data": {
      "text/plain": [
       "array([1.        , 0.51470588, 0.42647059, 0.29411765, 0.16176471,\n",
       "       0.07058824, 0.05882353, 0.03529412, 0.01176471])"
      ]
     },
     "execution_count": 30,
     "metadata": {},
     "output_type": "execute_result"
    }
   ],
   "source": [
    "minard.column('Pct alive')"
   ]
  },
  {
   "cell_type": "markdown",
   "metadata": {},
   "source": [
    "## Selecting data in a column ##"
   ]
  },
  {
   "cell_type": "code",
   "execution_count": 31,
   "metadata": {},
   "outputs": [
    {
     "data": {
      "text/html": [
       "<table border=\"1\" class=\"dataframe\">\n",
       "    <thead>\n",
       "        <tr>\n",
       "            <th>Year</th> <th>Average Ticket Price</th> <th>Total Gross</th> <th>Number of Movies</th> <th>#1 Movie</th>\n",
       "        </tr>\n",
       "    </thead>\n",
       "    <tbody>\n",
       "        <tr>\n",
       "            <td>2015</td> <td>8.43                </td> <td>11128.5    </td> <td>702             </td> <td>Star Wars: The Force Awakens       </td>\n",
       "        </tr>\n",
       "        <tr>\n",
       "            <td>2014</td> <td>8.17                </td> <td>10360.8    </td> <td>702             </td> <td>American Sniper                    </td>\n",
       "        </tr>\n",
       "        <tr>\n",
       "            <td>2013</td> <td>8.13                </td> <td>10923.6    </td> <td>688             </td> <td>Catching Fire                      </td>\n",
       "        </tr>\n",
       "        <tr>\n",
       "            <td>2012</td> <td>7.96                </td> <td>10837.4    </td> <td>667             </td> <td>The Avengers                       </td>\n",
       "        </tr>\n",
       "        <tr>\n",
       "            <td>2011</td> <td>7.93                </td> <td>10174.3    </td> <td>602             </td> <td>Harry Potter / Deathly Hallows (P2)</td>\n",
       "        </tr>\n",
       "        <tr>\n",
       "            <td>2010</td> <td>7.89                </td> <td>10565.6    </td> <td>536             </td> <td>Toy Story 3                        </td>\n",
       "        </tr>\n",
       "        <tr>\n",
       "            <td>2009</td> <td>7.5                 </td> <td>10595.5    </td> <td>521             </td> <td>Avatar                             </td>\n",
       "        </tr>\n",
       "        <tr>\n",
       "            <td>2008</td> <td>7.18                </td> <td>9630.7     </td> <td>608             </td> <td>The Dark Knight                    </td>\n",
       "        </tr>\n",
       "        <tr>\n",
       "            <td>2007</td> <td>6.88                </td> <td>9663.8     </td> <td>631             </td> <td>Spider-Man 3                       </td>\n",
       "        </tr>\n",
       "        <tr>\n",
       "            <td>2006</td> <td>6.55                </td> <td>9209.5     </td> <td>608             </td> <td>Dead Man's Chest                   </td>\n",
       "        </tr>\n",
       "        <tr>\n",
       "            <td>2005</td> <td>6.41                </td> <td>8840.5     </td> <td>547             </td> <td>Revenge of the Sith                </td>\n",
       "        </tr>\n",
       "        <tr>\n",
       "            <td>2004</td> <td>6.21                </td> <td>9380.5     </td> <td>551             </td> <td>Shrek 2                            </td>\n",
       "        </tr>\n",
       "        <tr>\n",
       "            <td>2003</td> <td>6.03                </td> <td>9239.7     </td> <td>506             </td> <td>Return of the King                 </td>\n",
       "        </tr>\n",
       "        <tr>\n",
       "            <td>2002</td> <td>5.8                 </td> <td>9155       </td> <td>479             </td> <td>Spider-Man                         </td>\n",
       "        </tr>\n",
       "        <tr>\n",
       "            <td>2001</td> <td>5.65                </td> <td>8412.5     </td> <td>482             </td> <td>Harry Potter / Sorcerer's Stone    </td>\n",
       "        </tr>\n",
       "        <tr>\n",
       "            <td>2000</td> <td>5.39                </td> <td>7661       </td> <td>478             </td> <td>The Grinch                         </td>\n",
       "        </tr>\n",
       "        <tr>\n",
       "            <td>1999</td> <td>5.06                </td> <td>7448       </td> <td>461             </td> <td>The Phantom Menace                 </td>\n",
       "        </tr>\n",
       "        <tr>\n",
       "            <td>1998</td> <td>4.69                </td> <td>6949       </td> <td>509             </td> <td>Saving Private Ryan                </td>\n",
       "        </tr>\n",
       "        <tr>\n",
       "            <td>1997</td> <td>4.59                </td> <td>6365.9     </td> <td>510             </td> <td>Titanic                            </td>\n",
       "        </tr>\n",
       "        <tr>\n",
       "            <td>1996</td> <td>4.42                </td> <td>5911.5     </td> <td>471             </td> <td>Independence Day                   </td>\n",
       "        </tr>\n",
       "        <tr>\n",
       "            <td>1995</td> <td>4.35                </td> <td>5493.5     </td> <td>411             </td> <td>Toy Story                          </td>\n",
       "        </tr>\n",
       "        <tr>\n",
       "            <td>1994</td> <td>4.08                </td> <td>5396.2     </td> <td>453             </td> <td>Forrest Gump                       </td>\n",
       "        </tr>\n",
       "        <tr>\n",
       "            <td>1993</td> <td>4.14                </td> <td>5154.2     </td> <td>462             </td> <td>Jurassic Park                      </td>\n",
       "        </tr>\n",
       "        <tr>\n",
       "            <td>1992</td> <td>4.15                </td> <td>4871       </td> <td>480             </td> <td>Aladdin                            </td>\n",
       "        </tr>\n",
       "        <tr>\n",
       "            <td>1991</td> <td>4.21                </td> <td>4803.2     </td> <td>458             </td> <td>Terminator 2                       </td>\n",
       "        </tr>\n",
       "        <tr>\n",
       "            <td>1990</td> <td>4.22                </td> <td>5021.8     </td> <td>410             </td> <td>Home Alone                         </td>\n",
       "        </tr>\n",
       "        <tr>\n",
       "            <td>1989</td> <td>3.99                </td> <td>5033.4     </td> <td>502             </td> <td>Batman                             </td>\n",
       "        </tr>\n",
       "        <tr>\n",
       "            <td>1988</td> <td>4.11                </td> <td>4458.4     </td> <td>510             </td> <td>Rain Man                           </td>\n",
       "        </tr>\n",
       "        <tr>\n",
       "            <td>1987</td> <td>3.91                </td> <td>4252.9     </td> <td>509             </td> <td>Three Men and a Baby               </td>\n",
       "        </tr>\n",
       "        <tr>\n",
       "            <td>1986</td> <td>3.71                </td> <td>3778       </td> <td>451             </td> <td>Top Gun                            </td>\n",
       "        </tr>\n",
       "        <tr>\n",
       "            <td>1985</td> <td>3.55                </td> <td>3749.2     </td> <td>470             </td> <td>Back to the Future                 </td>\n",
       "        </tr>\n",
       "        <tr>\n",
       "            <td>1984</td> <td>3.36                </td> <td>4031       </td> <td>536             </td> <td>Beverly Hills Cop                  </td>\n",
       "        </tr>\n",
       "        <tr>\n",
       "            <td>1983</td> <td>3.15                </td> <td>3766       </td> <td>495             </td> <td>Return of the Jedi                 </td>\n",
       "        </tr>\n",
       "        <tr>\n",
       "            <td>1982</td> <td>2.94                </td> <td>3453       </td> <td>428             </td> <td>E.T.                               </td>\n",
       "        </tr>\n",
       "        <tr>\n",
       "            <td>1981</td> <td>2.78                </td> <td>2966       </td> <td>173             </td> <td>Raiders / Lost Ark                 </td>\n",
       "        </tr>\n",
       "        <tr>\n",
       "            <td>1980</td> <td>2.69                </td> <td>2749       </td> <td>161             </td> <td>The Empire Strikes Back            </td>\n",
       "        </tr>\n",
       "    </tbody>\n",
       "</table>"
      ],
      "text/plain": [
       "<IPython.core.display.HTML object>"
      ]
     },
     "metadata": {},
     "output_type": "display_data"
    }
   ],
   "source": [
    "movies = Table.read_table('movies_by_year_with_ticket_price.csv')\n",
    "movies.show()"
   ]
  },
  {
   "cell_type": "code",
   "execution_count": 32,
   "metadata": {},
   "outputs": [],
   "source": [
    "gross_in_dollars = movies.column('Total Gross') * 1e6\n",
    "tix_sold = gross_in_dollars / movies.column('Average Ticket Price')"
   ]
  },
  {
   "cell_type": "code",
   "execution_count": 33,
   "metadata": {},
   "outputs": [],
   "source": [
    "movies = movies.with_column('Tickets sold', tix_sold)"
   ]
  },
  {
   "cell_type": "code",
   "execution_count": 34,
   "metadata": {},
   "outputs": [
    {
     "data": {
      "text/html": [
       "<table border=\"1\" class=\"dataframe\">\n",
       "    <thead>\n",
       "        <tr>\n",
       "            <th>Year</th> <th>Average Ticket Price</th> <th>Total Gross</th> <th>Number of Movies</th> <th>#1 Movie</th> <th>Tickets sold</th>\n",
       "        </tr>\n",
       "    </thead>\n",
       "    <tbody>\n",
       "        <tr>\n",
       "            <td>2015</td> <td>8.43                </td> <td>11128.5    </td> <td>702             </td> <td>Star Wars: The Force Awakens</td> <td>1.32011e+09 </td>\n",
       "        </tr>\n",
       "        <tr>\n",
       "            <td>2014</td> <td>8.17                </td> <td>10360.8    </td> <td>702             </td> <td>American Sniper             </td> <td>1.26815e+09 </td>\n",
       "        </tr>\n",
       "        <tr>\n",
       "            <td>2013</td> <td>8.13                </td> <td>10923.6    </td> <td>688             </td> <td>Catching Fire               </td> <td>1.34362e+09 </td>\n",
       "        </tr>\n",
       "        <tr>\n",
       "            <td>2012</td> <td>7.96                </td> <td>10837.4    </td> <td>667             </td> <td>The Avengers                </td> <td>1.36148e+09 </td>\n",
       "        </tr>\n",
       "    </tbody>\n",
       "</table>\n",
       "<p>... (32 rows omitted)</p>"
      ],
      "text/plain": [
       "<IPython.core.display.HTML object>"
      ]
     },
     "metadata": {},
     "output_type": "display_data"
    }
   ],
   "source": [
    "movies.show(4)"
   ]
  },
  {
   "cell_type": "code",
   "execution_count": 35,
   "metadata": {},
   "outputs": [
    {
     "data": {
      "text/html": [
       "<table border=\"1\" class=\"dataframe\">\n",
       "    <thead>\n",
       "        <tr>\n",
       "            <th>Year</th> <th>Average Ticket Price</th> <th>Total Gross</th> <th>Number of Movies</th> <th>#1 Movie</th> <th>Tickets sold</th>\n",
       "        </tr>\n",
       "    </thead>\n",
       "    <tbody>\n",
       "        <tr>\n",
       "            <td>2015</td> <td>8.43                </td> <td>11128.5    </td> <td>702             </td> <td>Star Wars: The Force Awakens       </td> <td>1,320,106,761.57</td>\n",
       "        </tr>\n",
       "        <tr>\n",
       "            <td>2014</td> <td>8.17                </td> <td>10360.8    </td> <td>702             </td> <td>American Sniper                    </td> <td>1,268,151,774.79</td>\n",
       "        </tr>\n",
       "        <tr>\n",
       "            <td>2013</td> <td>8.13                </td> <td>10923.6    </td> <td>688             </td> <td>Catching Fire                      </td> <td>1,343,616,236.16</td>\n",
       "        </tr>\n",
       "        <tr>\n",
       "            <td>2012</td> <td>7.96                </td> <td>10837.4    </td> <td>667             </td> <td>The Avengers                       </td> <td>1,361,482,412.06</td>\n",
       "        </tr>\n",
       "        <tr>\n",
       "            <td>2011</td> <td>7.93                </td> <td>10174.3    </td> <td>602             </td> <td>Harry Potter / Deathly Hallows (P2)</td> <td>1,283,013,871.37</td>\n",
       "        </tr>\n",
       "        <tr>\n",
       "            <td>2010</td> <td>7.89                </td> <td>10565.6    </td> <td>536             </td> <td>Toy Story 3                        </td> <td>1,339,112,801.01</td>\n",
       "        </tr>\n",
       "        <tr>\n",
       "            <td>2009</td> <td>7.5                 </td> <td>10595.5    </td> <td>521             </td> <td>Avatar                             </td> <td>1,412,733,333.33</td>\n",
       "        </tr>\n",
       "        <tr>\n",
       "            <td>2008</td> <td>7.18                </td> <td>9630.7     </td> <td>608             </td> <td>The Dark Knight                    </td> <td>1,341,323,119.78</td>\n",
       "        </tr>\n",
       "        <tr>\n",
       "            <td>2007</td> <td>6.88                </td> <td>9663.8     </td> <td>631             </td> <td>Spider-Man 3                       </td> <td>1,404,622,093.02</td>\n",
       "        </tr>\n",
       "        <tr>\n",
       "            <td>2006</td> <td>6.55                </td> <td>9209.5     </td> <td>608             </td> <td>Dead Man's Chest                   </td> <td>1,406,030,534.35</td>\n",
       "        </tr>\n",
       "    </tbody>\n",
       "</table>\n",
       "<p>... (26 rows omitted)</p>"
      ],
      "text/plain": [
       "Year | Average Ticket Price | Total Gross | Number of Movies | #1 Movie                            | Tickets sold\n",
       "2015 | 8.43                 | 11128.5     | 702              | Star Wars: The Force Awakens        | 1,320,106,761.57\n",
       "2014 | 8.17                 | 10360.8     | 702              | American Sniper                     | 1,268,151,774.79\n",
       "2013 | 8.13                 | 10923.6     | 688              | Catching Fire                       | 1,343,616,236.16\n",
       "2012 | 7.96                 | 10837.4     | 667              | The Avengers                        | 1,361,482,412.06\n",
       "2011 | 7.93                 | 10174.3     | 602              | Harry Potter / Deathly Hallows (P2) | 1,283,013,871.37\n",
       "2010 | 7.89                 | 10565.6     | 536              | Toy Story 3                         | 1,339,112,801.01\n",
       "2009 | 7.5                  | 10595.5     | 521              | Avatar                              | 1,412,733,333.33\n",
       "2008 | 7.18                 | 9630.7      | 608              | The Dark Knight                     | 1,341,323,119.78\n",
       "2007 | 6.88                 | 9663.8      | 631              | Spider-Man 3                        | 1,404,622,093.02\n",
       "2006 | 6.55                 | 9209.5      | 608              | Dead Man's Chest                    | 1,406,030,534.35\n",
       "... (26 rows omitted)"
      ]
     },
     "execution_count": 35,
     "metadata": {},
     "output_type": "execute_result"
    }
   ],
   "source": [
    "movies.set_format('Tickets sold', NumberFormatter)"
   ]
  },
  {
   "cell_type": "code",
   "execution_count": 36,
   "metadata": {},
   "outputs": [
    {
     "data": {
      "image/png": "[encoded data removed]",
      "text/plain": [
       "<Figure size 432x288 with 1 Axes>"
      ]
     },
     "metadata": {},
     "output_type": "display_data"
    }
   ],
   "source": [
    "movies.plot('Year', 'Tickets sold')"
   ]
  },
  {
   "cell_type": "code",
   "execution_count": 37,
   "metadata": {},
   "outputs": [
    {
     "data": {
      "text/html": [
       "<table border=\"1\" class=\"dataframe\">\n",
       "    <thead>\n",
       "        <tr>\n",
       "            <th>Year</th> <th>Average Ticket Price</th> <th>Total Gross</th> <th>Number of Movies</th> <th>#1 Movie</th> <th>Tickets sold</th>\n",
       "        </tr>\n",
       "    </thead>\n",
       "    <tbody>\n",
       "        <tr>\n",
       "            <td>2004</td> <td>6.21                </td> <td>9380.5     </td> <td>551             </td> <td>Shrek 2                        </td> <td>1,510,547,504.03</td>\n",
       "        </tr>\n",
       "        <tr>\n",
       "            <td>2003</td> <td>6.03                </td> <td>9239.7     </td> <td>506             </td> <td>Return of the King             </td> <td>1,532,288,557.21</td>\n",
       "        </tr>\n",
       "        <tr>\n",
       "            <td>2002</td> <td>5.8                 </td> <td>9155       </td> <td>479             </td> <td>Spider-Man                     </td> <td>1,578,448,275.86</td>\n",
       "        </tr>\n",
       "        <tr>\n",
       "            <td>2001</td> <td>5.65                </td> <td>8412.5     </td> <td>482             </td> <td>Harry Potter / Sorcerer's Stone</td> <td>1,488,938,053.10</td>\n",
       "        </tr>\n",
       "        <tr>\n",
       "            <td>2000</td> <td>5.39                </td> <td>7661       </td> <td>478             </td> <td>The Grinch                     </td> <td>1,421,335,807.05</td>\n",
       "        </tr>\n",
       "    </tbody>\n",
       "</table>"
      ],
      "text/plain": [
       "Year | Average Ticket Price | Total Gross | Number of Movies | #1 Movie                        | Tickets sold\n",
       "2004 | 6.21                 | 9380.5      | 551              | Shrek 2                         | 1,510,547,504.03\n",
       "2003 | 6.03                 | 9239.7      | 506              | Return of the King              | 1,532,288,557.21\n",
       "2002 | 5.8                  | 9155        | 479              | Spider-Man                      | 1,578,448,275.86\n",
       "2001 | 5.65                 | 8412.5      | 482              | Harry Potter / Sorcerer's Stone | 1,488,938,053.10\n",
       "2000 | 5.39                 | 7661        | 478              | The Grinch                      | 1,421,335,807.05"
      ]
     },
     "execution_count": 37,
     "metadata": {},
     "output_type": "execute_result"
    }
   ],
   "source": [
    "movies.where('Year', are.between(2000, 2005))"
   ]
  },
  {
   "cell_type": "code",
   "execution_count": 38,
   "metadata": {},
   "outputs": [
    {
     "data": {
      "text/html": [
       "<table border=\"1\" class=\"dataframe\">\n",
       "    <thead>\n",
       "        <tr>\n",
       "            <th>Year</th> <th>Average Ticket Price</th> <th>Total Gross</th> <th>Number of Movies</th> <th>#1 Movie</th> <th>Tickets sold</th>\n",
       "        </tr>\n",
       "    </thead>\n",
       "    <tbody>\n",
       "        <tr>\n",
       "            <td>2002</td> <td>5.8                 </td> <td>9155       </td> <td>479             </td> <td>Spider-Man</td> <td>1,578,448,275.86</td>\n",
       "        </tr>\n",
       "    </tbody>\n",
       "</table>"
      ],
      "text/plain": [
       "Year | Average Ticket Price | Total Gross | Number of Movies | #1 Movie   | Tickets sold\n",
       "2002 | 5.8                  | 9155        | 479              | Spider-Man | 1,578,448,275.86"
      ]
     },
     "execution_count": 38,
     "metadata": {},
     "output_type": "execute_result"
    }
   ],
   "source": [
    "movies.where('Year', are.equal_to(2002))"
   ]
  },
  {
   "cell_type": "code",
   "execution_count": 39,
   "metadata": {},
   "outputs": [
    {
     "data": {
      "text/html": [
       "<table border=\"1\" class=\"dataframe\">\n",
       "    <thead>\n",
       "        <tr>\n",
       "            <th>Year</th> <th>Average Ticket Price</th> <th>Total Gross</th> <th>Number of Movies</th> <th>#1 Movie</th> <th>Tickets sold</th>\n",
       "        </tr>\n",
       "    </thead>\n",
       "    <tbody>\n",
       "        <tr>\n",
       "            <td>2002</td> <td>5.8                 </td> <td>9155       </td> <td>479             </td> <td>Spider-Man</td> <td>1,578,448,275.86</td>\n",
       "        </tr>\n",
       "    </tbody>\n",
       "</table>"
      ],
      "text/plain": [
       "Year | Average Ticket Price | Total Gross | Number of Movies | #1 Movie   | Tickets sold\n",
       "2002 | 5.8                  | 9155        | 479              | Spider-Man | 1,578,448,275.86"
      ]
     },
     "execution_count": 39,
     "metadata": {},
     "output_type": "execute_result"
    }
   ],
   "source": [
    "movies.where('Year', 2002)"
   ]
  },
  {
   "cell_type": "code",
   "execution_count": 40,
   "metadata": {},
   "outputs": [
    {
     "data": {
      "text/html": [
       "<table border=\"1\" class=\"dataframe\">\n",
       "    <thead>\n",
       "        <tr>\n",
       "            <th>Year</th> <th>Average Ticket Price</th> <th>Total Gross</th> <th>Number of Movies</th> <th>#1 Movie</th> <th>Tickets sold</th>\n",
       "        </tr>\n",
       "    </thead>\n",
       "    <tbody>\n",
       "        <tr>\n",
       "            <td>2011</td> <td>7.93                </td> <td>10174.3    </td> <td>602             </td> <td>Harry Potter / Deathly Hallows (P2)</td> <td>1,283,013,871.37</td>\n",
       "        </tr>\n",
       "        <tr>\n",
       "            <td>2001</td> <td>5.65                </td> <td>8412.5     </td> <td>482             </td> <td>Harry Potter / Sorcerer's Stone    </td> <td>1,488,938,053.10</td>\n",
       "        </tr>\n",
       "    </tbody>\n",
       "</table>"
      ],
      "text/plain": [
       "Year | Average Ticket Price | Total Gross | Number of Movies | #1 Movie                            | Tickets sold\n",
       "2011 | 7.93                 | 10174.3     | 602              | Harry Potter / Deathly Hallows (P2) | 1,283,013,871.37\n",
       "2001 | 5.65                 | 8412.5      | 482              | Harry Potter / Sorcerer's Stone     | 1,488,938,053.10"
      ]
     },
     "execution_count": 40,
     "metadata": {},
     "output_type": "execute_result"
    }
   ],
   "source": [
    "movies.where('#1 Movie', are.containing('Harry Potter'))"
   ]
  },
  {
   "cell_type": "code",
   "execution_count": 41,
   "metadata": {},
   "outputs": [
    {
     "data": {
      "text/html": [
       "<table border=\"1\" class=\"dataframe\">\n",
       "    <thead>\n",
       "        <tr>\n",
       "            <th>Year</th> <th>Average Ticket Price</th> <th>Total Gross</th> <th>Number of Movies</th> <th>#1 Movie</th> <th>Tickets sold</th>\n",
       "        </tr>\n",
       "    </thead>\n",
       "    <tbody>\n",
       "        <tr>\n",
       "            <td>2013</td> <td>8.13                </td> <td>10923.6    </td> <td>688             </td> <td>Catching Fire                      </td> <td>1,343,616,236.16</td>\n",
       "        </tr>\n",
       "        <tr>\n",
       "            <td>2012</td> <td>7.96                </td> <td>10837.4    </td> <td>667             </td> <td>The Avengers                       </td> <td>1,361,482,412.06</td>\n",
       "        </tr>\n",
       "        <tr>\n",
       "            <td>2011</td> <td>7.93                </td> <td>10174.3    </td> <td>602             </td> <td>Harry Potter / Deathly Hallows (P2)</td> <td>1,283,013,871.37</td>\n",
       "        </tr>\n",
       "    </tbody>\n",
       "</table>"
      ],
      "text/plain": [
       "Year | Average Ticket Price | Total Gross | Number of Movies | #1 Movie                            | Tickets sold\n",
       "2013 | 8.13                 | 10923.6     | 688              | Catching Fire                       | 1,343,616,236.16\n",
       "2012 | 7.96                 | 10837.4     | 667              | The Avengers                        | 1,361,482,412.06\n",
       "2011 | 7.93                 | 10174.3     | 602              | Harry Potter / Deathly Hallows (P2) | 1,283,013,871.37"
      ]
     },
     "execution_count": 41,
     "metadata": {},
     "output_type": "execute_result"
    }
   ],
   "source": [
    "movies.take(np.arange(2, 5))"
   ]
  }
 ],
 "metadata": {
  "kernelspec": {
   "display_name": "Python 3",
   "language": "python",
   "name": "python3"
  },
  "language_info": {
   "codemirror_mode": {
    "name": "ipython",
    "version": 3
   },
   "file_extension": ".py",
   "mimetype": "text/x-python",
   "name": "python",
   "nbconvert_exporter": "python",
   "pygments_lexer": "ipython3",
   "version": "3.6.7"
  }
 },
 "nbformat": 4,
 "nbformat_minor": 1
}
