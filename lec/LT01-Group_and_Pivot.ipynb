{
 "cells": [
  {
   "cell_type": "markdown",
   "metadata": {},
   "source": [
    "# Group and Pivot example"
   ]
  },
  {
   "cell_type": "code",
   "execution_count": null,
   "metadata": {},
   "outputs": [],
   "source": [
    "import numpy as np\n",
    "from datascience import *"
   ]
  },
  {
   "cell_type": "code",
   "execution_count": null,
   "metadata": {
    "scrolled": true
   },
   "outputs": [],
   "source": [
    "sales = Table().with_columns(\n",
    "    'Year',  make_array(2017, 2017, 2017, 2018, 2018, 2018, 2018, 2019, 2019),\n",
    "    'Company', make_array('A Corp', 'B Corp', 'C Corp', 'A Corp', 'B Corp', 'C Corp', 'D Corp', 'A Corp', 'C Corp'),\n",
    "    'Item', make_array('Thing1', 'Thing2', 'Thing1', 'Thing2', 'Thing2', 'Thing2', 'Thing1', 'Thing1', 'Thing2'),\n",
    "    'Sales', make_array(1000, 2000, 300, 4000, 1000, 200, 5000, 1000, 2000))\n",
    "\n",
    "sales   "
   ]
  },
  {
   "cell_type": "markdown",
   "metadata": {},
   "source": [
    "## Review of the group method"
   ]
  },
  {
   "cell_type": "code",
   "execution_count": null,
   "metadata": {},
   "outputs": [],
   "source": [
    "# How many years did each company report sales?\n",
    "\n",
    "sales.group('Company')"
   ]
  },
  {
   "cell_type": "code",
   "execution_count": null,
   "metadata": {},
   "outputs": [],
   "source": [
    "# What was the total sales for each company?\n",
    "sales.group('Company', np.sum)"
   ]
  },
  {
   "cell_type": "code",
   "execution_count": null,
   "metadata": {},
   "outputs": [],
   "source": [
    "# 'Year' and 'Item' is not needed for our sales summery\n",
    "# and gets in the way of showing our results, lets drop it.\n",
    "sales.drop('Year', 'Item').group('Company', np.sum)"
   ]
  },
  {
   "cell_type": "code",
   "execution_count": null,
   "metadata": {},
   "outputs": [],
   "source": [
    "# Can easily get other summary statistics, like average\n",
    "sales.drop('Year', 'Item').group('Company', np.average)"
   ]
  },
  {
   "cell_type": "markdown",
   "metadata": {},
   "source": [
    "OK, so let's dive deeper in the data, what if you want to see a breakdown for each year **for each company**? Can we do this with group?"
   ]
  },
  {
   "cell_type": "code",
   "execution_count": null,
   "metadata": {},
   "outputs": [],
   "source": [
    "# This just gives is year totals for all companies\n",
    "sales.group('Year', np.sum)"
   ]
  },
  {
   "cell_type": "code",
   "execution_count": null,
   "metadata": {
    "scrolled": true
   },
   "outputs": [],
   "source": [
    "# We can use groups to look at more than one catagory\n",
    "# Takes an array of groups to group on\n",
    "sales.groups(make_array('Year', 'Company'), np.sum)"
   ]
  },
  {
   "cell_type": "markdown",
   "metadata": {},
   "source": [
    "## Pivot\n",
    "\n",
    "This is good, but it's hard to compare one company to another.  This is where pivot comes it.  We will create a new table with company names columns (one column for each company), and years for rows (one for each year). "
   ]
  },
  {
   "cell_type": "code",
   "execution_count": null,
   "metadata": {},
   "outputs": [],
   "source": [
    "# First argument is a categorical column from the orig table\n",
    "# and will become the columns in the new table. \n",
    "\n",
    "# Second argument is a column from the orig table\n",
    "# and will become the rows in the new table.\n",
    "sales.pivot('Company', 'Year')"
   ]
  },
  {
   "cell_type": "markdown",
   "metadata": {},
   "source": [
    "For each row and column, pivot acts like our group method.  It collects all items that match a row and column and performs a count on them.  In this example, it clearly shows that 'D Corp' didn't have any sales in 2017, and in 2019, 'B Corp' and 'D Corp' didn't have any sales.\n",
    "\n",
    "Just like we can pass in a function to the `group()` method, we can do the same with the `pivot()` method."
   ]
  },
  {
   "cell_type": "code",
   "execution_count": null,
   "metadata": {},
   "outputs": [],
   "source": [
    "# Third argument is the column to use for values  \n",
    "# (for a given row and column) and thse values will be \n",
    "# collected into an array\n",
    "\n",
    "# Fourth argument is the function will be called with the array\n",
    "# for each row column group.\n",
    "sales.pivot('Company', 'Year', 'Sales', np.average)"
   ]
  },
  {
   "cell_type": "markdown",
   "metadata": {},
   "source": [
    "Since each year only has one report of sales, the average is the same as the total number of sales.  If you compare the table above, to the one created by the `groups()` method, you see that it is the same information just organized in a different format.  \n",
    "\n",
    "How about if we wanted to see the years as columns, and the company as rows?  We can easily do this with `pivot()`. "
   ]
  },
  {
   "cell_type": "code",
   "execution_count": null,
   "metadata": {},
   "outputs": [],
   "source": [
    "sales.pivot('Year', 'Company', 'Sales', np.average)"
   ]
  },
  {
   "cell_type": "code",
   "execution_count": null,
   "metadata": {},
   "outputs": [],
   "source": [
    "# Breakdown of Item sale counts by company\n",
    "sales.pivot('Item', 'Company')"
   ]
  },
  {
   "cell_type": "code",
   "execution_count": null,
   "metadata": {},
   "outputs": [],
   "source": [
    "# Total sales by items and companies\n",
    "sales.pivot('Item', 'Company', 'Sales', np.sum)"
   ]
  }
 ],
 "metadata": {
  "kernelspec": {
   "display_name": "Python 3",
   "language": "python",
   "name": "python3"
  },
  "language_info": {
   "codemirror_mode": {
    "name": "ipython",
    "version": 3
   },
   "file_extension": ".py",
   "mimetype": "text/x-python",
   "name": "python",
   "nbconvert_exporter": "python",
   "pygments_lexer": "ipython3",
   "version": "3.6.7"
  }
 },
 "nbformat": 4,
 "nbformat_minor": 4
}
